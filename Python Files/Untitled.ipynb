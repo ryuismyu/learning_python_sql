{
 "cells": [
  {
   "cell_type": "code",
   "execution_count": 16,
   "id": "49fb6a78-095c-4698-b2cf-18f8cc961e47",
   "metadata": {},
   "outputs": [
    {
     "name": "stdout",
     "output_type": "stream",
     "text": [
      "Hello, World!\n"
     ]
    }
   ],
   "source": [
    "print(\"Hello, World!\")"
   ]
  },
  {
   "cell_type": "markdown",
   "id": "162eb3c9-b88a-45f7-88e3-3314b8d817c2",
   "metadata": {},
   "source": [
    "Some keywords in python include: in, not, or, for, while, and return"
   ]
  },
  {
   "cell_type": "markdown",
   "id": "f69cdcbd-4730-4bcb-83ba-1c29a960ff05",
   "metadata": {},
   "source": [
    "Some operators include: + , - , * , / , ** ,%, // , >, < . == "
   ]
  },
  {
   "cell_type": "code",
   "execution_count": 11,
   "id": "87de7524-35a2-46a9-a974-fcff0baf97fa",
   "metadata": {},
   "outputs": [
    {
     "name": "stdout",
     "output_type": "stream",
     "text": [
      "29.444444444444443\n"
     ]
    }
   ],
   "source": [
    "# Example of a function\n",
    "def to_celcius(x):\n",
    "    \"Convert Fahrenheit to Celsius\"\n",
    "    return (x-32) * 5/9 \n",
    "\n",
    "print(to_celcius(85))\n"
   ]
  },
  {
   "cell_type": "code",
   "execution_count": 15,
   "id": "c62ff92e-0511-4917-bdbd-f879aec1f3c5",
   "metadata": {},
   "outputs": [
    {
     "name": "stdout",
     "output_type": "stream",
     "text": [
      "Number is zero.\n"
     ]
    }
   ],
   "source": [
    "# Example of a conditional statement:\n",
    "number = 0\n",
    "if number > 0: \n",
    "    print (\"Number is positive.\")\n",
    "elif number ==0:\n",
    "    print (\"Number is zero.\")\n",
    "else:\n",
    "    print(\"Number is negative.\")\n"
   ]
  },
  {
   "cell_type": "markdown",
   "id": "4df73c12-c3ec-4f8c-9f8b-fd5e796a30e3",
   "metadata": {},
   "source": [
    "Naming Conventions:\n",
    "- "
   ]
  },
  {
   "cell_type": "markdown",
   "id": "d8aaf012-be55-4435-b228-9b4dc9090eb2",
   "metadata": {},
   "source": [
    "Names cannot contain spaces\n",
    "\n",
    "Names may be a mxiture of upper and lower case characters\n",
    "\n",
    "Names can't start with a number but may contain numbers \n",
    "after the first character\n",
    "\n",
    "Variable names and funciton names should be written in snake_case which means that all letters are lowercase and \n",
    "words are seperated using an underscore\n",
    "\n",
    "Descriptive names are better than cryptic observations"
   ]
  },
  {
   "cell_type": "markdown",
   "id": "bd719179-83ab-401e-bef8-9379f2915474",
   "metadata": {},
   "source": [
    "Data types:\n",
    "- "
   ]
  },
  {
   "cell_type": "code",
   "execution_count": 20,
   "id": "252659fa-ed8a-429f-9c91-7b64eec44895",
   "metadata": {},
   "outputs": [
    {
     "name": "stdout",
     "output_type": "stream",
     "text": [
      "<class 'str'>\n",
      "<class 'int'>\n",
      "<class 'float'>\n",
      "a1\n"
     ]
    }
   ],
   "source": [
    "print(type(\"a\"))\n",
    "print(type(2))\n",
    "print(type(2.5))\n",
    "print (\"a\" + str(1))\n",
    "# You cannot combine string with int without adding str()"
   ]
  },
  {
   "cell_type": "code",
   "execution_count": null,
   "id": "0af7121c-a0dd-4a45-80aa-67069f2b217e",
   "metadata": {},
   "outputs": [],
   "source": []
  }
 ],
 "metadata": {
  "kernelspec": {
   "display_name": "Python 3 (ipykernel)",
   "language": "python",
   "name": "python3"
  },
  "language_info": {
   "codemirror_mode": {
    "name": "ipython",
    "version": 3
   },
   "file_extension": ".py",
   "mimetype": "text/x-python",
   "name": "python",
   "nbconvert_exporter": "python",
   "pygments_lexer": "ipython3",
   "version": "3.13.4"
  }
 },
 "nbformat": 4,
 "nbformat_minor": 5
}
