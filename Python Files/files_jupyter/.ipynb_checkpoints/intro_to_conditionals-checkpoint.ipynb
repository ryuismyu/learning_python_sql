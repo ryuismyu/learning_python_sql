{
 "cells": [
  {
   "cell_type": "markdown",
   "id": "7ed6a11d-0beb-434b-87fd-074208f6782f",
   "metadata": {},
   "source": [
    "Comparing things:\n",
    "- "
   ]
  },
  {
   "cell_type": "code",
   "execution_count": 8,
   "id": "b89e636d-72ce-4b7c-a7ae-2f39860cbea7",
   "metadata": {},
   "outputs": [
    {
     "name": "stdout",
     "output_type": "stream",
     "text": [
      "False\n",
      "False\n",
      "False\n",
      "15\n",
      "True\n"
     ]
    }
   ],
   "source": [
    "# Python used to compare statements and can check if they are true or false\n",
    "print (10<1)\n",
    "print (\"cat\"  == \"dog\")\n",
    "print (1 == \"1\")\n",
    "# When a comparison is made, python returns a boolean result: T or F\n",
    "# = vs ==\n",
    "# The = assignment operator is used to assign a value to a variable\n",
    "my_variable = 3*5\n",
    "print(my_variable)\n",
    "# The == equality comparison operator checks if the values of the two \n",
    "# expressions on either side of the == operator are equivalent\n",
    "print(my_variable == 3*5)\n"
   ]
  },
  {
   "cell_type": "code",
   "execution_count": 12,
   "id": "fa28bd2c-b118-4f7a-bade-1d016dca58ec",
   "metadata": {},
   "outputs": [
    {
     "name": "stdout",
     "output_type": "stream",
     "text": [
      "False\n",
      "False\n",
      "True\n"
     ]
    }
   ],
   "source": [
    "print (11> 3**3)\n",
    "print (4/2 > 8-4)\n",
    "print (4/2 < 8-4)"
   ]
  },
  {
   "cell_type": "code",
   "execution_count": null,
   "id": "8a1543c0-9e7d-45b7-825c-9a3cb73473fc",
   "metadata": {},
   "outputs": [],
   "source": [
    "# The == operator can check if two strings are equal to each other. \n",
    "# If they are equal, the Python interpreter returns a True result.\n",
    "print(\"a string\" == \"a string\")\n",
    "True\n",
    "\n",
    "\n",
    "# In this example, the equality == comparison is between \"4 + 5\" and\n",
    "# 4 + 5. Since the left data type is a string and the right data type\n",
    "# is an integer, the two values cannot be equal. So, the comparison\n",
    "# returns a False result.\n",
    "print(\"4 + 5\" == 4 + 5)\n",
    "False\n",
    "\n",
    "\n",
    "# The != operator can check if the two strings are NOT equal to each\n",
    "# other. If they are indeed not equal, then Python returns a True result.\n",
    "print(\"rabbit\" != \"frog\")\n",
    "True\n",
    "\n",
    "\n",
    "# In this example, the variable event_city has been assigned the string \n",
    "# value \"Shanghai\". This variable is compared to a static string, \n",
    "# \"Shanghai\", using the != operator. As, the strings \"Shanghai\" and \n",
    "# \"Shanghai\" are the same, the comparison of \"Shanghai\" != \"Shanghai\" \n",
    "# is false. Accordingly, Python will return a False result.\n",
    "event_city = \"Shanghai\"\n",
    "print(event_city != \"Shanghai\")\n",
    "False\n",
    "\n",
    "# This last example illustrates the result of trying to compare two\n",
    "# items of different data types using the equality == operator. The\n",
    "# two items are not equal, so the comparison returns False.\n",
    "print(\"three\" == 3)\n",
    "False\n"
   ]
  },
  {
   "cell_type": "code",
   "execution_count": null,
   "id": "2615f11c-2ca0-4e5e-8de5-686fd7802668",
   "metadata": {},
   "outputs": [],
   "source": []
  }
 ],
 "metadata": {
  "kernelspec": {
   "display_name": "Python 3 (ipykernel)",
   "language": "python",
   "name": "python3"
  },
  "language_info": {
   "codemirror_mode": {
    "name": "ipython",
    "version": 3
   },
   "file_extension": ".py",
   "mimetype": "text/x-python",
   "name": "python",
   "nbconvert_exporter": "python",
   "pygments_lexer": "ipython3",
   "version": "3.13.4"
  }
 },
 "nbformat": 4,
 "nbformat_minor": 5
}
