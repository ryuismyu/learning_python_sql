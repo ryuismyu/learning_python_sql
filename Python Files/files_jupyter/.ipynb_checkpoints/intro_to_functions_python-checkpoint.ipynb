{
 "cells": [
  {
   "cell_type": "markdown",
   "id": "7707182c-6106-43d5-9e58-705acd684d3a",
   "metadata": {},
   "source": [
    "Defining Functions: \n",
    "- "
   ]
  },
  {
   "cell_type": "code",
   "execution_count": 1,
   "id": "671f750f-d13c-4bad-9d6d-c59eedb4e5e8",
   "metadata": {},
   "outputs": [
    {
     "name": "stdout",
     "output_type": "stream",
     "text": [
      "Welcome, Ryan\n",
      "You are part of the Data Analytics Department\n"
     ]
    }
   ],
   "source": [
    "# How to define functions in python:\n",
    "def greeting(name, department):\n",
    "    print(\"Welcome, \" + name)\n",
    "    print (\"You are part of the \" + department)\n",
    "greeting(\"Ryan\", \"Data Analytics Department\")"
   ]
  },
  {
   "cell_type": "markdown",
   "id": "daf4a01c-17c6-4c08-985d-854eb2e54929",
   "metadata": {},
   "source": [
    "Built-in functions:\n",
    "- "
   ]
  },
  {
   "cell_type": "code",
   "execution_count": 2,
   "id": "5feadd4a-335a-4bd0-b250-0c146532deac",
   "metadata": {},
   "outputs": [
    {
     "name": "stdout",
     "output_type": "stream",
     "text": [
      "Investigate failed login attempts during December if more than 100\n",
      "<class 'str'>\n",
      "<class 'int'>\n",
      "<class 'float'>\n",
      "12\n",
      "[2, 12, 14, 19, 22, 32, 57]\n",
      "[12, 2, 32, 19, 57, 22, 14]\n",
      "2\n",
      "57\n",
      "The sum of both areas is:20.5\n",
      "The number of hours and minutes in an NBA quarter is (0, 12, 0)\n",
      "Hello Ryan. Your lucky number is 28\n",
      "Hello Kaasvi. Your lucky number is 42\n",
      "Hello Ryan. Your lucky number is 28\n",
      "Hello Mitul. Your lucky number is 35\n"
     ]
    }
   ],
   "source": [
    "\n",
    "# print(): outputs a specified object to the screen\n",
    "month = \"December\"\n",
    "print (\"Investigate failed login attempts during\", month, \n",
    "       \"if more than\", 100)\n",
    "\n",
    "#type(): the type function returns the data type of its argument\n",
    "\n",
    "# string data type\n",
    "print(type(\"December\"))\n",
    "\n",
    "# integer data type\n",
    "print(type(7))\n",
    "\n",
    "#float data type:\n",
    "print(type(7.5))\n",
    "\n",
    "#str(): function is used to convert any data type to string\n",
    "number =12 \n",
    "string_representation = str(number)\n",
    "print(string_representation)\n",
    "\n",
    "#sorted(): this function sorts the components of a list.\n",
    "time_list = [12,2,32,19,57,22,14]\n",
    "print(sorted(time_list))\n",
    "print(time_list)\n",
    "\n",
    "# max and min, self-explanatory\n",
    "print(min(time_list))\n",
    "print(max(time_list))\n",
    "\n",
    "# Returning values: Return state makes code more reusable\n",
    "\n",
    "# code for area of a function\n",
    "def area_triangle(base, height):\n",
    "    return base*height/2\n",
    "area_a = area_triangle(5,4)\n",
    "area_b=area_triangle(7,3)\n",
    "sum = area_a + area_b\n",
    "print(\"The sum of both areas is:\" + str(sum))\n",
    "# code for converting time in seconds to equilvant number of hours, minutes, and seconds\n",
    "def convert_seconds(seconds):\n",
    "    hours = seconds // 3600\n",
    "    minutes = (seconds -hours * 3600) //60\n",
    "    remaining_seconds = seconds - hours*3600 - minutes*60\n",
    "    return hours,minutes,remaining_seconds\n",
    "seconds_in_quarter = convert_seconds(720)\n",
    "print(\"The number of hours and minutes in an NBA quarter is \" + str(seconds_in_quarter))\n",
    "\n",
    "# Two different ways of writing code, \n",
    "# Second method shows efficency of using functions.\n",
    "\n",
    "#Method 1:\n",
    "name = \"Ryan\"\n",
    "number = len(name)*7\n",
    "print(\"Hello \" + name + \". Your lucky number is \" + str(number))\n",
    "name = \"Kaasvi\"\n",
    "number = len(name)*7\n",
    "print(\"Hello \" + name + \". Your lucky number is \" + str(number))\n",
    "\n",
    "# Method 2:\n",
    "def lucky_number(name):\n",
    "        number= len(name)*7\n",
    "        print(\"Hello \" + name + \". Your lucky number is \" + str(number))\n",
    "lucky_number(\"Ryan\")\n",
    "lucky_number(\"Mitul\")"
   ]
  },
  {
   "cell_type": "code",
   "execution_count": 12,
   "id": "d360bf72-e910-4eae-862d-f0148380df96",
   "metadata": {},
   "outputs": [
    {
     "name": "stdout",
     "output_type": "stream",
     "text": [
      "78.5\n",
      "314.0\n"
     ]
    }
   ],
   "source": [
    "# Assignment: find the area of a circle-\n",
    "def circle_area(radius):\n",
    "    pi = 3.14\n",
    "    area = pi * (radius ** 2)\n",
    "    print(area)\n",
    "circle_area(5)\n",
    "circle_area(10)"
   ]
  },
  {
   "cell_type": "code",
   "execution_count": 14,
   "id": "4aed604b-a885-48b5-8505-b985e022f4fb",
   "metadata": {},
   "outputs": [
    {
     "name": "stdout",
     "output_type": "stream",
     "text": [
      "903\n"
     ]
    }
   ],
   "source": [
    "# Assignemnt: find the total number of days given months and years\n",
    "def find_total_days (years,months,days):\n",
    "    my_days = (years*365) + (months*30) + days\n",
    "    return my_days\n",
    "print(find_total_days(2,5,23))\n",
    "    "
   ]
  },
  {
   "cell_type": "code",
   "execution_count": 16,
   "id": "090894ae-ec24-4f2c-a4d1-4cadda9e692f",
   "metadata": {},
   "outputs": [
    {
     "name": "stdout",
     "output_type": "stream",
     "text": [
      "147.5\n"
     ]
    }
   ],
   "source": [
    "# Assingment: Use a function to convert ounces into mL\n",
    "def convert_volume(fluid_ounce):\n",
    "    ml = fluid_ounce* 29.5\n",
    "    print(ml)\n",
    "convert_volume(5)\n"
   ]
  },
  {
   "cell_type": "code",
   "execution_count": 18,
   "id": "5c007bb8-b284-44d1-b79f-dddc170ec730",
   "metadata": {},
   "outputs": [
    {
     "name": "stdout",
     "output_type": "stream",
     "text": [
      "The distance is meters 55000\n"
     ]
    }
   ],
   "source": [
    "# Convertign kilometers to meters\n",
    "def convert_distance(km):\n",
    "    m= km*1000\n",
    "    return m\n",
    "my_trip_kilometers = 55\n",
    "my_trip_meters = convert_distance(55)\n",
    "\n",
    "print (\"The distance is meters \" + str(my_trip_meters))"
   ]
  },
  {
   "cell_type": "code",
   "execution_count": 20,
   "id": "4b76fa6d-c2da-48b5-b6e1-58b81eb4edbb",
   "metadata": {},
   "outputs": [
    {
     "name": "stdout",
     "output_type": "stream",
     "text": [
      "10983\n"
     ]
    }
   ],
   "source": [
    "# Make a function that has 3 inputs: hours, minutes, and seconds\n",
    "# such that you print the total number of seconds\n",
    "def print_seconds (hours,minutes,seconds):\n",
    "    print(hours*3600 + minutes*60 + seconds)\n",
    "print_seconds(3,3,3)"
   ]
  },
  {
   "cell_type": "code",
   "execution_count": null,
   "id": "6a5d3c55-cc68-4780-8611-ca72fac25291",
   "metadata": {},
   "outputs": [],
   "source": []
  }
 ],
 "metadata": {
  "kernelspec": {
   "display_name": "Python 3 (ipykernel)",
   "language": "python",
   "name": "python3"
  },
  "language_info": {
   "codemirror_mode": {
    "name": "ipython",
    "version": 3
   },
   "file_extension": ".py",
   "mimetype": "text/x-python",
   "name": "python",
   "nbconvert_exporter": "python",
   "pygments_lexer": "ipython3",
   "version": "3.13.4"
  }
 },
 "nbformat": 4,
 "nbformat_minor": 5
}
