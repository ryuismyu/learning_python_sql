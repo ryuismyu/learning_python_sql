{
 "cells": [
  {
   "cell_type": "code",
   "execution_count": 3,
   "id": "671f750f-d13c-4bad-9d6d-c59eedb4e5e8",
   "metadata": {},
   "outputs": [
    {
     "name": "stdout",
     "output_type": "stream",
     "text": [
      "Welcome, Ryan\n",
      "You are part of the Data Analytics Department\n"
     ]
    }
   ],
   "source": [
    "# How to use functions in python:\n",
    "def greeting(name, department):\n",
    "    print(\"Welcome, \" + name)\n",
    "    print (\"You are part of the \" + department)\n",
    "greeting(\"Ryan\", \"Data Analytics Department\")"
   ]
  },
  {
   "cell_type": "code",
   "execution_count": null,
   "id": "a0bf0433-8ac1-4c20-8013-d899d6eef71b",
   "metadata": {},
   "outputs": [],
   "source": []
  },
  {
   "cell_type": "code",
   "execution_count": null,
   "id": "5feadd4a-335a-4bd0-b250-0c146532deac",
   "metadata": {},
   "outputs": [],
   "source": []
  }
 ],
 "metadata": {
  "kernelspec": {
   "display_name": "Python 3 (ipykernel)",
   "language": "python",
   "name": "python3"
  },
  "language_info": {
   "codemirror_mode": {
    "name": "ipython",
    "version": 3
   },
   "file_extension": ".py",
   "mimetype": "text/x-python",
   "name": "python",
   "nbconvert_exporter": "python",
   "pygments_lexer": "ipython3",
   "version": "3.13.4"
  }
 },
 "nbformat": 4,
 "nbformat_minor": 5
}
