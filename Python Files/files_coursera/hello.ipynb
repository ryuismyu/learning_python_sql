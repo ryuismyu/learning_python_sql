{
 "cells": [
  {
   "cell_type": "code",
   "execution_count": 1,
   "id": "d6fc62e0-d918-4a91-8c2a-330950bfe64f",
   "metadata": {},
   "outputs": [
    {
     "name": "stdout",
     "output_type": "stream",
     "text": [
      "Hello, World!\n"
     ]
    }
   ],
   "source": [
    "print(\"Hello, World!\")"
   ]
  },
  {
   "cell_type": "code",
   "execution_count": 2,
   "id": "8016c62e-f997-4e08-874c-c015b7228f34",
   "metadata": {},
   "outputs": [
    {
     "data": {
      "text/plain": [
       "Type help() for interactive help, or help(object) for help about object."
      ]
     },
     "execution_count": 2,
     "metadata": {},
     "output_type": "execute_result"
    }
   ],
   "source": [
    "help"
   ]
  },
  {
   "cell_type": "code",
   "execution_count": 4,
   "id": "e7b02a7f-3cbf-4104-bef7-61aeeac9a9d8",
   "metadata": {},
   "outputs": [
    {
     "name": "stdout",
     "output_type": "stream",
     "text": [
      "Welcome to Python 3.13's help utility! If this is your first time using\n",
      "Python, you should definitely check out the tutorial at\n",
      "https://docs.python.org/3.13/tutorial/.\n",
      "\n",
      "Enter the name of any module, keyword, or topic to get help on writing\n",
      "Python programs and using Python modules.  To get a list of available\n",
      "modules, keywords, symbols, or topics, enter \"modules\", \"keywords\",\n",
      "\"symbols\", or \"topics\".\n",
      "\n",
      "Each module also comes with a one-line summary of what it does; to list\n",
      "the modules whose name or summary contain a given string such as \"spam\",\n",
      "enter \"modules spam\".\n",
      "\n",
      "To quit this help utility and return to the interpreter,\n",
      "enter \"q\", \"quit\" or \"exit\".\n",
      "\n"
     ]
    },
    {
     "name": "stdin",
     "output_type": "stream",
     "text": [
      "help>  for\n"
     ]
    },
    {
     "name": "stdout",
     "output_type": "stream",
     "text": [
      "The \"for\" statement\n",
      "*******************\n",
      "\n",
      "The \"for\" statement is used to iterate over the elements of a sequence\n",
      "(such as a string, tuple or list) or other iterable object:\n",
      "\n",
      "   for_stmt ::= \"for\" target_list \"in\" starred_list \":\" suite\n",
      "                [\"else\" \":\" suite]\n",
      "\n",
      "The \"starred_list\" expression is evaluated once; it should yield an\n",
      "*iterable* object.  An *iterator* is created for that iterable. The\n",
      "first item provided by the iterator is then assigned to the target\n",
      "list using the standard rules for assignments (see Assignment\n",
      "statements), and the suite is executed.  This repeats for each item\n",
      "provided by the iterator.  When the iterator is exhausted, the suite\n",
      "in the \"else\" clause, if present, is executed, and the loop\n",
      "terminates.\n",
      "\n",
      "A \"break\" statement executed in the first suite terminates the loop\n",
      "without executing the \"else\" clause’s suite.  A \"continue\" statement\n",
      "executed in the first suite skips the rest of the suite and continues\n",
      "with the next item, or with the \"else\" clause if there is no next\n",
      "item.\n",
      "\n",
      "The for-loop makes assignments to the variables in the target list.\n",
      "This overwrites all previous assignments to those variables including\n",
      "those made in the suite of the for-loop:\n",
      "\n",
      "   for i in range(10):\n",
      "       print(i)\n",
      "       i = 5             # this will not affect the for-loop\n",
      "                         # because i will be overwritten with the next\n",
      "                         # index in the range\n",
      "\n",
      "Names in the target list are not deleted when the loop is finished,\n",
      "but if the sequence is empty, they will not have been assigned to at\n",
      "all by the loop.  Hint: the built-in type \"range()\" represents\n",
      "immutable arithmetic sequences of integers. For instance, iterating\n",
      "\"range(3)\" successively yields 0, 1, and then 2.\n",
      "\n",
      "Changed in version 3.11: Starred elements are now allowed in the\n",
      "expression list.\n",
      "\n",
      "Related help topics: break, continue, while\n",
      "\n"
     ]
    },
    {
     "name": "stdin",
     "output_type": "stream",
     "text": [
      "help>  sum\n"
     ]
    },
    {
     "ename": "ErrorDuringImport",
     "evalue": "problem in /Users/ryan/Desktop/Python Files/files_coursera/sum.py - SyntaxError: invalid decimal literal (sum.py, line 1)",
     "output_type": "error",
     "traceback": [
      "\u001b[31m---------------------------------------------------------------------------\u001b[39m",
      "\u001b[31mSyntaxError\u001b[39m                               Traceback (most recent call last)",
      "\u001b[36mFile \u001b[39m\u001b[32m/Library/Frameworks/Python.framework/Versions/3.13/lib/python3.13/pydoc.py:510\u001b[39m, in \u001b[36msafeimport\u001b[39m\u001b[34m(path, forceload, cache)\u001b[39m\n\u001b[32m    509\u001b[39m                 \u001b[38;5;28;01mdel\u001b[39;00m sys.modules[key]\n\u001b[32m--> \u001b[39m\u001b[32m510\u001b[39m     module = \u001b[43mimportlib\u001b[49m\u001b[43m.\u001b[49m\u001b[43mimport_module\u001b[49m\u001b[43m(\u001b[49m\u001b[43mpath\u001b[49m\u001b[43m)\u001b[49m\n\u001b[32m    511\u001b[39m \u001b[38;5;28;01mexcept\u001b[39;00m \u001b[38;5;167;01mBaseException\u001b[39;00m \u001b[38;5;28;01mas\u001b[39;00m err:\n\u001b[32m    512\u001b[39m     \u001b[38;5;66;03m# Did the error occur before or after the module was found?\u001b[39;00m\n",
      "\u001b[36mFile \u001b[39m\u001b[32m/Library/Frameworks/Python.framework/Versions/3.13/lib/python3.13/importlib/__init__.py:88\u001b[39m, in \u001b[36mimport_module\u001b[39m\u001b[34m(name, package)\u001b[39m\n\u001b[32m     87\u001b[39m         level += \u001b[32m1\u001b[39m\n\u001b[32m---> \u001b[39m\u001b[32m88\u001b[39m \u001b[38;5;28;01mreturn\u001b[39;00m \u001b[43m_bootstrap\u001b[49m\u001b[43m.\u001b[49m\u001b[43m_gcd_import\u001b[49m\u001b[43m(\u001b[49m\u001b[43mname\u001b[49m\u001b[43m[\u001b[49m\u001b[43mlevel\u001b[49m\u001b[43m:\u001b[49m\u001b[43m]\u001b[49m\u001b[43m,\u001b[49m\u001b[43m \u001b[49m\u001b[43mpackage\u001b[49m\u001b[43m,\u001b[49m\u001b[43m \u001b[49m\u001b[43mlevel\u001b[49m\u001b[43m)\u001b[49m\n",
      "\u001b[36mFile \u001b[39m\u001b[32m<frozen importlib._bootstrap>:1387\u001b[39m, in \u001b[36m_gcd_import\u001b[39m\u001b[34m(name, package, level)\u001b[39m\n",
      "\u001b[36mFile \u001b[39m\u001b[32m<frozen importlib._bootstrap>:1360\u001b[39m, in \u001b[36m_find_and_load\u001b[39m\u001b[34m(name, import_)\u001b[39m\n",
      "\u001b[36mFile \u001b[39m\u001b[32m<frozen importlib._bootstrap>:1331\u001b[39m, in \u001b[36m_find_and_load_unlocked\u001b[39m\u001b[34m(name, import_)\u001b[39m\n",
      "\u001b[36mFile \u001b[39m\u001b[32m<frozen importlib._bootstrap>:935\u001b[39m, in \u001b[36m_load_unlocked\u001b[39m\u001b[34m(spec)\u001b[39m\n",
      "\u001b[36mFile \u001b[39m\u001b[32m<frozen importlib._bootstrap_external>:1022\u001b[39m, in \u001b[36mexec_module\u001b[39m\u001b[34m(self, module)\u001b[39m\n",
      "\u001b[36mFile \u001b[39m\u001b[32m<frozen importlib._bootstrap_external>:1160\u001b[39m, in \u001b[36mget_code\u001b[39m\u001b[34m(self, fullname)\u001b[39m\n",
      "\u001b[36mFile \u001b[39m\u001b[32m<frozen importlib._bootstrap_external>:1090\u001b[39m, in \u001b[36msource_to_code\u001b[39m\u001b[34m(self, data, path, _optimize)\u001b[39m\n",
      "\u001b[36mFile \u001b[39m\u001b[32m<frozen importlib._bootstrap>:488\u001b[39m, in \u001b[36m_call_with_frames_removed\u001b[39m\u001b[34m(f, *args, **kwds)\u001b[39m\n",
      "\u001b[31mSyntaxError\u001b[39m: invalid decimal literal (sum.py, line 1)",
      "\nDuring handling of the above exception, another exception occurred:\n",
      "\u001b[31mErrorDuringImport\u001b[39m                         Traceback (most recent call last)",
      "\u001b[36mCell\u001b[39m\u001b[36m \u001b[39m\u001b[32mIn[4]\u001b[39m\u001b[32m, line 1\u001b[39m\n\u001b[32m----> \u001b[39m\u001b[32m1\u001b[39m \u001b[43mhelp\u001b[49m\u001b[43m(\u001b[49m\u001b[43m)\u001b[49m\n",
      "\u001b[36mFile \u001b[39m\u001b[32m<frozen _sitebuiltins>:103\u001b[39m, in \u001b[36m__call__\u001b[39m\u001b[34m(self, *args, **kwds)\u001b[39m\n",
      "\u001b[36mFile \u001b[39m\u001b[32m/Library/Frameworks/Python.framework/Versions/3.13/lib/python3.13/pydoc.py:2006\u001b[39m, in \u001b[36mHelper.__call__\u001b[39m\u001b[34m(self, request)\u001b[39m\n\u001b[32m   2004\u001b[39m         \u001b[38;5;28;01melse\u001b[39;00m:\n\u001b[32m   2005\u001b[39m             \u001b[38;5;28mself\u001b[39m.intro()\n\u001b[32m-> \u001b[39m\u001b[32m2006\u001b[39m             \u001b[38;5;28;43mself\u001b[39;49m\u001b[43m.\u001b[49m\u001b[43minteract\u001b[49m\u001b[43m(\u001b[49m\u001b[43m)\u001b[49m\n\u001b[32m   2007\u001b[39m             \u001b[38;5;28mself\u001b[39m.output.write(\u001b[33m'''\u001b[39m\n\u001b[32m   2008\u001b[39m \u001b[33mYou are now leaving help and returning to the Python interpreter.\u001b[39m\n\u001b[32m   2009\u001b[39m \u001b[33mIf you want to ask for help on a particular object directly from the\u001b[39m\n\u001b[32m   2010\u001b[39m \u001b[33minterpreter, you can type \u001b[39m\u001b[33m\"\u001b[39m\u001b[33mhelp(object)\u001b[39m\u001b[33m\"\u001b[39m\u001b[33m.  Executing \u001b[39m\u001b[33m\"\u001b[39m\u001b[33mhelp(\u001b[39m\u001b[33m'\u001b[39m\u001b[33mstring\u001b[39m\u001b[33m'\u001b[39m\u001b[33m)\u001b[39m\u001b[33m\"\u001b[39m\n\u001b[32m   2011\u001b[39m \u001b[33mhas the same effect as typing a particular string at the help> prompt.\u001b[39m\n\u001b[32m   2012\u001b[39m \u001b[33m'''\u001b[39m)\n",
      "\u001b[36mFile \u001b[39m\u001b[32m/Library/Frameworks/Python.framework/Versions/3.13/lib/python3.13/pydoc.py:2033\u001b[39m, in \u001b[36mHelper.interact\u001b[39m\u001b[34m(self)\u001b[39m\n\u001b[32m   2031\u001b[39m     \u001b[38;5;28mself\u001b[39m.intro()\n\u001b[32m   2032\u001b[39m \u001b[38;5;28;01melse\u001b[39;00m:\n\u001b[32m-> \u001b[39m\u001b[32m2033\u001b[39m     \u001b[38;5;28;43mself\u001b[39;49m\u001b[43m.\u001b[49m\u001b[43mhelp\u001b[49m\u001b[43m(\u001b[49m\u001b[43mrequest\u001b[49m\u001b[43m)\u001b[49m\n",
      "\u001b[36mFile \u001b[39m\u001b[32m/Library/Frameworks/Python.framework/Versions/3.13/lib/python3.13/pydoc.py:2059\u001b[39m, in \u001b[36mHelper.help\u001b[39m\u001b[34m(self, request, is_cli)\u001b[39m\n\u001b[32m   2057\u001b[39m     \u001b[38;5;28;01melif\u001b[39;00m request \u001b[38;5;129;01min\u001b[39;00m \u001b[38;5;28mself\u001b[39m.keywords: \u001b[38;5;28mself\u001b[39m.showtopic(request)\n\u001b[32m   2058\u001b[39m     \u001b[38;5;28;01melif\u001b[39;00m request \u001b[38;5;129;01min\u001b[39;00m \u001b[38;5;28mself\u001b[39m.topics: \u001b[38;5;28mself\u001b[39m.showtopic(request)\n\u001b[32m-> \u001b[39m\u001b[32m2059\u001b[39m     \u001b[38;5;28;01melif\u001b[39;00m request: \u001b[43mdoc\u001b[49m\u001b[43m(\u001b[49m\u001b[43mrequest\u001b[49m\u001b[43m,\u001b[49m\u001b[43m \u001b[49m\u001b[33;43m'\u001b[39;49m\u001b[33;43mHelp on \u001b[39;49m\u001b[38;5;132;43;01m%s\u001b[39;49;00m\u001b[33;43m:\u001b[39;49m\u001b[33;43m'\u001b[39;49m\u001b[43m,\u001b[49m\u001b[43m \u001b[49m\u001b[43moutput\u001b[49m\u001b[43m=\u001b[49m\u001b[38;5;28;43mself\u001b[39;49m\u001b[43m.\u001b[49m\u001b[43m_output\u001b[49m\u001b[43m,\u001b[49m\u001b[43m \u001b[49m\u001b[43mis_cli\u001b[49m\u001b[43m=\u001b[49m\u001b[43mis_cli\u001b[49m\u001b[43m)\u001b[49m\n\u001b[32m   2060\u001b[39m     \u001b[38;5;28;01melse\u001b[39;00m: doc(\u001b[38;5;28mstr\u001b[39m, \u001b[33m'\u001b[39m\u001b[33mHelp on \u001b[39m\u001b[38;5;132;01m%s\u001b[39;00m\u001b[33m:\u001b[39m\u001b[33m'\u001b[39m, output=\u001b[38;5;28mself\u001b[39m._output, is_cli=is_cli)\n\u001b[32m   2061\u001b[39m \u001b[38;5;28;01melif\u001b[39;00m \u001b[38;5;28misinstance\u001b[39m(request, Helper): \u001b[38;5;28mself\u001b[39m()\n",
      "\u001b[36mFile \u001b[39m\u001b[32m/Library/Frameworks/Python.framework/Versions/3.13/lib/python3.13/pydoc.py:1773\u001b[39m, in \u001b[36mdoc\u001b[39m\u001b[34m(thing, title, forceload, output, is_cli)\u001b[39m\n\u001b[32m   1771\u001b[39m             \u001b[38;5;28;01mif\u001b[39;00m \u001b[38;5;129;01mnot\u001b[39;00m \u001b[38;5;28misinstance\u001b[39m(what, \u001b[38;5;28mstr\u001b[39m):\n\u001b[32m   1772\u001b[39m                 what = \u001b[38;5;28mtype\u001b[39m(thing).\u001b[34m__name__\u001b[39m + \u001b[33m'\u001b[39m\u001b[33m object\u001b[39m\u001b[33m'\u001b[39m\n\u001b[32m-> \u001b[39m\u001b[32m1773\u001b[39m     pager(\u001b[43mrender_doc\u001b[49m\u001b[43m(\u001b[49m\u001b[43mthing\u001b[49m\u001b[43m,\u001b[49m\u001b[43m \u001b[49m\u001b[43mtitle\u001b[49m\u001b[43m,\u001b[49m\u001b[43m \u001b[49m\u001b[43mforceload\u001b[49m\u001b[43m)\u001b[49m, \u001b[33mf\u001b[39m\u001b[33m'\u001b[39m\u001b[33mHelp on \u001b[39m\u001b[38;5;132;01m{\u001b[39;00mwhat\u001b[38;5;132;01m!s}\u001b[39;00m\u001b[33m'\u001b[39m)\n\u001b[32m   1774\u001b[39m \u001b[38;5;28;01mexcept\u001b[39;00m \u001b[38;5;167;01mImportError\u001b[39;00m \u001b[38;5;28;01mas\u001b[39;00m exc:\n\u001b[32m   1775\u001b[39m     \u001b[38;5;28;01mif\u001b[39;00m is_cli:\n",
      "\u001b[36mFile \u001b[39m\u001b[32m/Library/Frameworks/Python.framework/Versions/3.13/lib/python3.13/pydoc.py:1738\u001b[39m, in \u001b[36mrender_doc\u001b[39m\u001b[34m(thing, title, forceload, renderer)\u001b[39m\n\u001b[32m   1736\u001b[39m \u001b[38;5;28;01mif\u001b[39;00m renderer \u001b[38;5;129;01mis\u001b[39;00m \u001b[38;5;28;01mNone\u001b[39;00m:\n\u001b[32m   1737\u001b[39m     renderer = text\n\u001b[32m-> \u001b[39m\u001b[32m1738\u001b[39m \u001b[38;5;28mobject\u001b[39m, name = \u001b[43mresolve\u001b[49m\u001b[43m(\u001b[49m\u001b[43mthing\u001b[49m\u001b[43m,\u001b[49m\u001b[43m \u001b[49m\u001b[43mforceload\u001b[49m\u001b[43m)\u001b[49m\n\u001b[32m   1739\u001b[39m desc = describe(\u001b[38;5;28mobject\u001b[39m)\n\u001b[32m   1740\u001b[39m module = inspect.getmodule(\u001b[38;5;28mobject\u001b[39m)\n",
      "\u001b[36mFile \u001b[39m\u001b[32m/Library/Frameworks/Python.framework/Versions/3.13/lib/python3.13/pydoc.py:1722\u001b[39m, in \u001b[36mresolve\u001b[39m\u001b[34m(thing, forceload)\u001b[39m\n\u001b[32m   1720\u001b[39m \u001b[38;5;250m    \u001b[39m\u001b[33;03m\"\"\"Given an object or a path to an object, get the object and its name.\"\"\"\u001b[39;00m\n\u001b[32m   1721\u001b[39m     \u001b[38;5;28;01mif\u001b[39;00m \u001b[38;5;28misinstance\u001b[39m(thing, \u001b[38;5;28mstr\u001b[39m):\n\u001b[32m-> \u001b[39m\u001b[32m1722\u001b[39m         \u001b[38;5;28mobject\u001b[39m = \u001b[43mlocate\u001b[49m\u001b[43m(\u001b[49m\u001b[43mthing\u001b[49m\u001b[43m,\u001b[49m\u001b[43m \u001b[49m\u001b[43mforceload\u001b[49m\u001b[43m)\u001b[49m\n\u001b[32m   1723\u001b[39m         \u001b[38;5;28;01mif\u001b[39;00m \u001b[38;5;28mobject\u001b[39m \u001b[38;5;129;01mis\u001b[39;00m \u001b[38;5;28;01mNone\u001b[39;00m:\n\u001b[32m   1724\u001b[39m             \u001b[38;5;28;01mraise\u001b[39;00m \u001b[38;5;167;01mImportError\u001b[39;00m(\u001b[33m'''\u001b[39m\u001b[38;5;130;01m\\\u001b[39;00m\n\u001b[32m   1725\u001b[39m \u001b[33mNo Python documentation found for \u001b[39m\u001b[38;5;132;01m%r\u001b[39;00m\u001b[33m.\u001b[39m\n\u001b[32m   1726\u001b[39m \u001b[33mUse help() to get the interactive help utility.\u001b[39m\n\u001b[32m   1727\u001b[39m \u001b[33mUse help(str) for help on the str class.\u001b[39m\u001b[33m'''\u001b[39m % thing)\n",
      "\u001b[36mFile \u001b[39m\u001b[32m/Library/Frameworks/Python.framework/Versions/3.13/lib/python3.13/pydoc.py:1699\u001b[39m, in \u001b[36mlocate\u001b[39m\u001b[34m(path, forceload)\u001b[39m\n\u001b[32m   1697\u001b[39m module, n = \u001b[38;5;28;01mNone\u001b[39;00m, \u001b[32m0\u001b[39m\n\u001b[32m   1698\u001b[39m \u001b[38;5;28;01mwhile\u001b[39;00m n < \u001b[38;5;28mlen\u001b[39m(parts):\n\u001b[32m-> \u001b[39m\u001b[32m1699\u001b[39m     nextmodule = \u001b[43msafeimport\u001b[49m\u001b[43m(\u001b[49m\u001b[33;43m'\u001b[39;49m\u001b[33;43m.\u001b[39;49m\u001b[33;43m'\u001b[39;49m\u001b[43m.\u001b[49m\u001b[43mjoin\u001b[49m\u001b[43m(\u001b[49m\u001b[43mparts\u001b[49m\u001b[43m[\u001b[49m\u001b[43m:\u001b[49m\u001b[43mn\u001b[49m\u001b[43m+\u001b[49m\u001b[32;43m1\u001b[39;49m\u001b[43m]\u001b[49m\u001b[43m)\u001b[49m\u001b[43m,\u001b[49m\u001b[43m \u001b[49m\u001b[43mforceload\u001b[49m\u001b[43m)\u001b[49m\n\u001b[32m   1700\u001b[39m     \u001b[38;5;28;01mif\u001b[39;00m nextmodule: module, n = nextmodule, n + \u001b[32m1\u001b[39m\n\u001b[32m   1701\u001b[39m     \u001b[38;5;28;01melse\u001b[39;00m: \u001b[38;5;28;01mbreak\u001b[39;00m\n",
      "\u001b[36mFile \u001b[39m\u001b[32m/Library/Frameworks/Python.framework/Versions/3.13/lib/python3.13/pydoc.py:518\u001b[39m, in \u001b[36msafeimport\u001b[39m\u001b[34m(path, forceload, cache)\u001b[39m\n\u001b[32m    515\u001b[39m     \u001b[38;5;28;01mraise\u001b[39;00m ErrorDuringImport(sys.modules[path].\u001b[34m__file__\u001b[39m, err)\n\u001b[32m    516\u001b[39m \u001b[38;5;28;01melif\u001b[39;00m \u001b[38;5;28mtype\u001b[39m(err) \u001b[38;5;129;01mis\u001b[39;00m \u001b[38;5;167;01mSyntaxError\u001b[39;00m:\n\u001b[32m    517\u001b[39m     \u001b[38;5;66;03m# A SyntaxError occurred before we could execute the module.\u001b[39;00m\n\u001b[32m--> \u001b[39m\u001b[32m518\u001b[39m     \u001b[38;5;28;01mraise\u001b[39;00m ErrorDuringImport(err.filename, err)\n\u001b[32m    519\u001b[39m \u001b[38;5;28;01melif\u001b[39;00m \u001b[38;5;28misinstance\u001b[39m(err, \u001b[38;5;167;01mImportError\u001b[39;00m) \u001b[38;5;129;01mand\u001b[39;00m err.name == path:\n\u001b[32m    520\u001b[39m     \u001b[38;5;66;03m# No such module in the path.\u001b[39;00m\n\u001b[32m    521\u001b[39m     \u001b[38;5;28;01mreturn\u001b[39;00m \u001b[38;5;28;01mNone\u001b[39;00m\n",
      "\u001b[31mErrorDuringImport\u001b[39m: problem in /Users/ryan/Desktop/Python Files/files_coursera/sum.py - SyntaxError: invalid decimal literal (sum.py, line 1)"
     ]
    }
   ],
   "source": [
    "help()"
   ]
  },
  {
   "cell_type": "code",
   "execution_count": 5,
   "id": "aaf8abbc-4fba-4914-9df8-4629839deda6",
   "metadata": {},
   "outputs": [
    {
     "ename": "TypeError",
     "evalue": "'>' not supported between instances of '_Helper' and 'builtin_function_or_method'",
     "output_type": "error",
     "traceback": [
      "\u001b[31m---------------------------------------------------------------------------\u001b[39m",
      "\u001b[31mTypeError\u001b[39m                                 Traceback (most recent call last)",
      "\u001b[36mCell\u001b[39m\u001b[36m \u001b[39m\u001b[32mIn[5]\u001b[39m\u001b[32m, line 1\u001b[39m\n\u001b[32m----> \u001b[39m\u001b[32m1\u001b[39m \u001b[43mhelp\u001b[49m\u001b[43m>\u001b[49m\u001b[43m \u001b[49m\u001b[38;5;28;43msum\u001b[39;49m\n",
      "\u001b[31mTypeError\u001b[39m: '>' not supported between instances of '_Helper' and 'builtin_function_or_method'"
     ]
    }
   ],
   "source": [
    "help> sum\n"
   ]
  },
  {
   "cell_type": "code",
   "execution_count": null,
   "id": "65717ddb-b68d-4fd2-a53e-1c048ccf543a",
   "metadata": {},
   "outputs": [],
   "source": []
  }
 ],
 "metadata": {
  "kernelspec": {
   "display_name": "Python 3 (ipykernel)",
   "language": "python",
   "name": "python3"
  },
  "language_info": {
   "codemirror_mode": {
    "name": "ipython",
    "version": 3
   },
   "file_extension": ".py",
   "mimetype": "text/x-python",
   "name": "python",
   "nbconvert_exporter": "python",
   "pygments_lexer": "ipython3",
   "version": "3.13.4"
  }
 },
 "nbformat": 4,
 "nbformat_minor": 5
}
